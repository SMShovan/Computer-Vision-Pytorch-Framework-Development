{
  "cells": [
    {
      "cell_type": "markdown",
      "metadata": {
        "id": "agA2OphbEJNR"
      },
      "source": [
        "## Import Libraries and load cifar10 dataset."
      ]
    },
    {
      "cell_type": "code",
      "execution_count": 15,
      "metadata": {
        "id": "i2q9GBaJEOKg"
      },
      "outputs": [],
      "source": [
        "import torch\n",
        "import torchvision\n",
        "import torchvision.transforms as transforms\n",
        "import numpy as np\n",
        "import matplotlib.pyplot as plt\n",
        "import torch.optim as optim\n",
        "from sklearn.model_selection import KFold\n",
        "#import additional libraries if needed"
      ]
    },
    {
      "cell_type": "code",
      "execution_count": 16,
      "metadata": {
        "id": "jrb7ROzAFXIR"
      },
      "outputs": [],
      "source": [
        "def load_cifar10_data(batch_size):\n",
        "# load both training and test datasets, and transform them to tensors.\n",
        "  transform = transforms.Compose(\n",
        "      [transforms.ToTensor(),\n",
        "      transforms.Normalize((0.5, 0.5, 0.5), (0.5, 0.5, 0.5))])\n",
        "\n",
        "  trainset = torchvision.datasets.CIFAR10(root='./data', train=True,\n",
        "                                          download=True, transform=transform)\n",
        "  trainloader = torch.utils.data.DataLoader(trainset, batch_size=batch_size,\n",
        "                                            shuffle=True, num_workers=2)\n",
        "\n",
        "  testset = torchvision.datasets.CIFAR10(root='./data', train=False,\n",
        "                                        download=True, transform=transform)\n",
        "  testloader = torch.utils.data.DataLoader(testset, batch_size=batch_size,\n",
        "                                          shuffle=False, num_workers=2)\n",
        "  \n",
        "  return trainloader, testloader"
      ]
    },
    {
      "cell_type": "code",
      "execution_count": 17,
      "metadata": {
        "colab": {
          "base_uri": "https://localhost:8080/"
        },
        "id": "mEzcJvqJsESl",
        "outputId": "ca0a6244-cd60-4f1d-b038-d413e2649d60"
      },
      "outputs": [
        {
          "output_type": "stream",
          "name": "stdout",
          "text": [
            "Files already downloaded and verified\n",
            "Files already downloaded and verified\n"
          ]
        }
      ],
      "source": [
        "batch_size = 4\n",
        "trainloader, testloader = load_cifar10_data(batch_size)\n",
        "classes = ('plane', 'car', 'bird', 'cat',\n",
        "            'deer', 'dog', 'frog', 'horse', 'ship', 'truck')"
      ]
    },
    {
      "cell_type": "code",
      "execution_count": 18,
      "metadata": {
        "colab": {
          "base_uri": "https://localhost:8080/"
        },
        "id": "ReC3emh2sLC-",
        "outputId": "08f395ec-9e4c-4ad0-9d0f-7556949f8a8e"
      },
      "outputs": [
        {
          "output_type": "stream",
          "name": "stdout",
          "text": [
            "Image batch dimensions: torch.Size([4, 3, 32, 32])\n",
            "Image label dimensions: torch.Size([4])\n"
          ]
        }
      ],
      "source": [
        "# Check the dimensions of a batch:\n",
        "for images, labels in trainloader:  \n",
        "    print('Image batch dimensions:', images.shape)\n",
        "    print('Image label dimensions:', labels.shape)\n",
        "    break"
      ]
    },
    {
      "cell_type": "code",
      "execution_count": 19,
      "metadata": {
        "id": "zhlbwh1432_G",
        "colab": {
          "base_uri": "https://localhost:8080/",
          "height": 210
        },
        "outputId": "cc91c830-f7d6-473f-e43c-49752c1e29b5"
      },
      "outputs": [
        {
          "output_type": "display_data",
          "data": {
            "text/plain": [
              "<Figure size 640x480 with 1 Axes>"
            ],
            "image/png": "[encoded data removed]"
          },
          "metadata": {}
        },
        {
          "output_type": "stream",
          "name": "stdout",
          "text": [
            "plane ship  car   deer \n"
          ]
        }
      ],
      "source": [
        "def imshow(img):\n",
        "    img = img / 2 + 0.5     # unnormalize\n",
        "    npimg = img.numpy()\n",
        "    plt.imshow(np.transpose(npimg, (1, 2, 0)))\n",
        "    plt.show()\n",
        "\n",
        "\n",
        "# get some random training images\n",
        "dataiter = iter(trainloader)\n",
        "images, labels = next(dataiter)\n",
        "\n",
        "# show images\n",
        "imshow(torchvision.utils.make_grid(images))\n",
        "# print labels\n",
        "print(' '.join(f'{classes[labels[j]]:5s}' for j in range(batch_size)))"
      ]
    },
    {
      "cell_type": "markdown",
      "metadata": {
        "id": "G7q5hfD3qgnB"
      },
      "source": [
        "## Section 1: Define your CNN model\n",
        "Define your output layer, optimizer and loss criterion"
      ]
    },
    {
      "cell_type": "code",
      "execution_count": 20,
      "metadata": {
        "id": "AMEHsweSasvK"
      },
      "outputs": [],
      "source": [
        "import torch.nn as nn\n",
        "import torch.nn.functional as F\n",
        "\n",
        "class CustomCNN(nn.Module):\n",
        "    def __init__(self):\n",
        "        super(CustomCNN, self).__init__()\n",
        "\n",
        "        # Convolutional layers\n",
        "        self.conv1 = nn.Conv2d(in_channels=3, out_channels=32, kernel_size=3, stride=1, padding=1)\n",
        "        self.conv2 = nn.Conv2d(in_channels=32, out_channels=64, kernel_size=3, stride=1, padding=1)\n",
        "        self.conv3 = nn.Conv2d(in_channels=64, out_channels=128, kernel_size=3, stride=1, padding=1)\n",
        "        self.conv4 = nn.Conv2d(in_channels=128, out_channels=128, kernel_size=3, stride=1, padding=1)\n",
        "        self.conv5 = nn.Conv2d(in_channels=128, out_channels=256, kernel_size=3, stride=1, padding=1)\n",
        "        self.conv6 = nn.Conv2d(in_channels=256, out_channels=256, kernel_size=3, stride=1, padding=1)\n",
        "\n",
        "        # Pooling layers\n",
        "        self.pool = nn.MaxPool2d(kernel_size=2, stride=2)\n",
        "\n",
        "        # Fully connected layers\n",
        "        #self.fc1 = nn.Linear(in_features=64 * 8 * 8, out_features=512)\n",
        "        self.fc1 = nn.Linear(in_features=256 * 4 * 4, out_features=1024)\n",
        "        self.fc2 = nn.Linear(in_features=1024, out_features=512)\n",
        "        self.fc3 = nn.Linear(in_features=512, out_features=10)\n",
        "\n",
        "        self.relu = nn.ReLU()\n",
        "\n",
        "    def forward(self, x):\n",
        "\n",
        "        x = F.relu(self.conv1(x))\n",
        "        x = self.pool(F.relu(self.conv2(x)))\n",
        "        x = F.relu(self.conv3(x))\n",
        "        x = self.pool(F.relu(self.conv4(x)))\n",
        "        x = F.relu(self.conv5(x))\n",
        "        x = self.pool(F.relu(self.conv6(x)))\n",
        "        x = x.view(-1, 256 * 4 * 4)\n",
        "        x = F.relu(self.fc1(x))\n",
        "        x = F.relu(self.fc2(x))\n",
        "        x = self.fc3(x)\n",
        "        return x\n"
      ]
    },
    {
      "cell_type": "code",
      "execution_count": 21,
      "metadata": {
        "id": "JKPAgAlNTLOc"
      },
      "outputs": [],
      "source": [
        "#create model\n",
        "model = CustomCNN()"
      ]
    },
    {
      "cell_type": "markdown",
      "metadata": {
        "id": "z3V1SSZwasvL"
      },
      "source": [
        "## Section 2: Define optimizer and loss criterion"
      ]
    },
    {
      "cell_type": "code",
      "execution_count": 22,
      "metadata": {
        "id": "w7rh7ahDtax_"
      },
      "outputs": [],
      "source": [
        "# Hyperparameters\n",
        "random_seed = 20\n",
        "learning_rate = 0.001\n",
        "num_epochs = 10\n",
        "\n",
        "# optimizer\n",
        "optimizer = optim.SGD(model.parameters(), lr=learning_rate, momentum=0.9)\n",
        "# loss\n",
        "loss = []\n",
        "# Define the loss criterion (Cross-Entropy Loss)\n",
        "criterion = nn.CrossEntropyLoss()"
      ]
    },
    {
      "cell_type": "code",
      "execution_count": 23,
      "metadata": {
        "id": "eDWLh_4gTQmF",
        "colab": {
          "base_uri": "https://localhost:8080/"
        },
        "outputId": "02f0c7ce-941c-497d-f93c-7a7908323fcc"
      },
      "outputs": [
        {
          "output_type": "stream",
          "name": "stdout",
          "text": [
            "Device: cuda:0\n"
          ]
        },
        {
          "output_type": "execute_result",
          "data": {
            "text/plain": [
              "CrossEntropyLoss()"
            ]
          },
          "metadata": {},
          "execution_count": 23
        }
      ],
      "source": [
        "DEVICE = torch.device(\"cuda:0\" if torch.cuda.is_available() else \"cpu\")\n",
        "print('Device:', DEVICE)\n",
        "# Set my pretrained model to be run on GPU\n",
        "model = model.to(DEVICE)\n",
        "criterion.to(DEVICE)"
      ]
    },
    {
      "cell_type": "code",
      "execution_count": 28,
      "metadata": {
        "id": "n8ZqdWQ6asvM"
      },
      "outputs": [],
      "source": [
        "# Helper function to compute the accuracy\n",
        "def compute_accuracy(model, dataloader):\n",
        "    # Set the model to evaluation mode\n",
        "    model.eval()\n",
        "\n",
        "    # Initialize counters for correct predictions and total examples\n",
        "    correct = 0\n",
        "    total = 0\n",
        "\n",
        "    # Iterate over the dataloader\n",
        "    with torch.no_grad():\n",
        "        for data in dataloader:\n",
        "            inputs, labels = data\n",
        "\n",
        "            # Move the data to the device\n",
        "            inputs = inputs.to(DEVICE)\n",
        "            labels = labels.to(DEVICE)\n",
        "\n",
        "            # Forward pass\n",
        "            outputs = model(inputs)\n",
        "            _, predicted = torch.max(outputs.data, 1)\n",
        "\n",
        "            # Update counters\n",
        "            total += labels.size(0)\n",
        "            correct += (predicted == labels).sum().item()\n",
        "\n",
        "    # Compute accuracy\n",
        "    accuracy = 100 * correct / total\n",
        "\n",
        "    return accuracy"
      ]
    },
    {
      "cell_type": "code",
      "execution_count": 25,
      "metadata": {
        "id": "anauIJFWasvM"
      },
      "outputs": [],
      "source": [
        "# Helper function to compute the loss over epochs\n",
        "def compute_epoch_loss(resnet, trainloader):\n",
        "    loss = 0\n",
        "\n",
        "    return loss"
      ]
    },
    {
      "cell_type": "code",
      "execution_count": 26,
      "metadata": {
        "id": "4erA1M3BasvM"
      },
      "outputs": [],
      "source": [
        "def train_model(trainloader, num_epochs, model, optimizer, loss_fn):\n",
        "    for epoch in range(num_epochs):\n",
        "        running_loss = 0.0\n",
        "        for i, data in enumerate(trainloader, 0):\n",
        "            # Get the inputs; data is a list of [inputs, labels]\n",
        "            inputs, labels = data\n",
        "\n",
        "            # Move the data to the device\n",
        "            inputs = inputs.to(DEVICE)\n",
        "            labels = labels.to(DEVICE)\n",
        "\n",
        "            # Zero the parameter gradients\n",
        "            optimizer.zero_grad()\n",
        "\n",
        "            # Forward + backward + optimize\n",
        "            outputs = model(inputs)\n",
        "            loss = loss_fn(outputs, labels)\n",
        "            loss.backward()\n",
        "            optimizer.step()\n",
        "\n",
        "            # Update running loss\n",
        "            running_loss += loss.item()\n",
        "\n",
        "        # Print statistics\n",
        "\n",
        "        epoch_loss = running_loss / len(trainloader)\n",
        "        epoch_accuracy = compute_accuracy(model, trainloader)\n",
        "        #print(f\"Epoch {epoch + 1}, Loss: {epoch_loss:.4f}, Accuracy: {epoch_accuracy:.2f}%\")\n",
        "        print('Epoch [%d], Loss: %.4f, Accuracy: %.2f %%' % (epoch+1, running_loss/len(trainloader), epoch_accuracy))\n",
        "\n",
        "def cross_validation(model, criterion, optimizer, trainloader, k):\n",
        "    kf = KFold(n_splits=k)\n",
        "    accuracies = []\n",
        "    for train_idx, val_idx in kf.split(trainloader.dataset):\n",
        "        train_subsampler = torch.utils.data.SubsetRandomSampler(train_idx)\n",
        "        val_subsampler = torch.utils.data.SubsetRandomSampler(val_idx)\n",
        "\n",
        "        trainloader_new = torch.utils.data.DataLoader(\n",
        "            trainloader.dataset, \n",
        "            batch_size=batch_size, sampler=train_subsampler)\n",
        "        valloader = torch.utils.data.DataLoader(\n",
        "            trainloader.dataset,\n",
        "            batch_size=batch_size, sampler=val_subsampler)\n",
        "\n",
        "        # Train the model on the training subset\n",
        "        train_model(trainloader_new, num_epochs, model, optimizer, criterion)\n",
        "\n",
        "        # Evaluate the model on the validation subset\n",
        "        accuracy = compute_accuracy(model, valloader)\n",
        "        accuracies.append(accuracy)\n",
        "\n",
        "    # Compute the average accuracy over all folds\n",
        "    avg_accuracy = sum(accuracies) / len(accuracies)\n",
        "\n",
        "    return avg_accuracy"
      ]
    },
    {
      "cell_type": "code",
      "execution_count": 29,
      "metadata": {
        "colab": {
          "base_uri": "https://localhost:8080/"
        },
        "id": "50ua3TzuasvN",
        "outputId": "bd374281-12e1-487f-8ccc-4aba39a83690"
      },
      "outputs": [
        {
          "output_type": "stream",
          "name": "stdout",
          "text": [
            "Epoch [1], Loss: 1.4329, Accuracy: 59.82 %\n",
            "Epoch [2], Loss: 1.0404, Accuracy: 69.77 %\n",
            "Epoch [3], Loss: 0.8002, Accuracy: 79.76 %\n",
            "Epoch [4], Loss: 0.6233, Accuracy: 84.34 %\n",
            "Epoch [5], Loss: 0.4854, Accuracy: 87.15 %\n",
            "Epoch [6], Loss: 0.3615, Accuracy: 90.58 %\n",
            "Epoch [7], Loss: 0.2582, Accuracy: 93.69 %\n",
            "Epoch [8], Loss: 0.2025, Accuracy: 94.80 %\n",
            "Epoch [9], Loss: 0.1532, Accuracy: 95.30 %\n",
            "Epoch [10], Loss: 0.1240, Accuracy: 97.45 %\n",
            "Epoch [1], Loss: 0.1793, Accuracy: 97.41 %\n",
            "Epoch [2], Loss: 0.0826, Accuracy: 97.94 %\n",
            "Epoch [3], Loss: 0.0779, Accuracy: 96.92 %\n",
            "Epoch [4], Loss: 0.0739, Accuracy: 98.84 %\n",
            "Epoch [5], Loss: 0.0630, Accuracy: 98.26 %\n",
            "Epoch [6], Loss: 0.0693, Accuracy: 97.73 %\n",
            "Epoch [7], Loss: 0.0599, Accuracy: 99.08 %\n",
            "Epoch [8], Loss: 0.0469, Accuracy: 99.07 %\n",
            "Epoch [9], Loss: 0.0366, Accuracy: 98.87 %\n",
            "Epoch [10], Loss: 0.0386, Accuracy: 98.80 %\n",
            "Epoch [1], Loss: 0.0659, Accuracy: 99.24 %\n",
            "Epoch [2], Loss: 0.0384, Accuracy: 98.76 %\n",
            "Epoch [3], Loss: 0.0328, Accuracy: 99.56 %\n",
            "Epoch [4], Loss: 0.0280, Accuracy: 98.40 %\n",
            "Epoch [5], Loss: 0.0373, Accuracy: 99.20 %\n",
            "Epoch [6], Loss: 0.0267, Accuracy: 99.26 %\n",
            "Epoch [7], Loss: 0.0286, Accuracy: 98.94 %\n",
            "Epoch [8], Loss: 0.0310, Accuracy: 99.30 %\n",
            "Epoch [9], Loss: 0.0226, Accuracy: 99.32 %\n",
            "Epoch [10], Loss: 0.0319, Accuracy: 99.53 %\n",
            "Epoch [1], Loss: 0.0343, Accuracy: 99.55 %\n",
            "Epoch [2], Loss: 0.0327, Accuracy: 99.44 %\n",
            "Epoch [3], Loss: 0.0180, Accuracy: 99.59 %\n",
            "Epoch [4], Loss: 0.0222, Accuracy: 99.07 %\n",
            "Epoch [5], Loss: 0.0282, Accuracy: 99.45 %\n",
            "Epoch [6], Loss: 0.0315, Accuracy: 99.55 %\n",
            "Epoch [7], Loss: 0.0226, Accuracy: 99.07 %\n",
            "Epoch [8], Loss: 0.0214, Accuracy: 99.48 %\n",
            "Epoch [9], Loss: 0.0175, Accuracy: 99.49 %\n",
            "Epoch [10], Loss: 0.0206, Accuracy: 99.62 %\n",
            "Epoch [1], Loss: 0.0270, Accuracy: 99.41 %\n",
            "Epoch [2], Loss: 0.0240, Accuracy: 99.43 %\n",
            "Epoch [3], Loss: 0.0236, Accuracy: 99.03 %\n",
            "Epoch [4], Loss: 0.0201, Accuracy: 99.06 %\n",
            "Epoch [5], Loss: 0.0192, Accuracy: 99.46 %\n",
            "Epoch [6], Loss: 0.0196, Accuracy: 99.14 %\n",
            "Epoch [7], Loss: 0.0224, Accuracy: 98.57 %\n",
            "Epoch [8], Loss: 0.0234, Accuracy: 99.74 %\n",
            "Epoch [9], Loss: 0.0117, Accuracy: 99.57 %\n",
            "Epoch [10], Loss: 0.0199, Accuracy: 99.24 %\n",
            "Epoch [1], Loss: 0.0261, Accuracy: 99.35 %\n",
            "Epoch [2], Loss: 0.0256, Accuracy: 99.72 %\n",
            "Epoch [3], Loss: 0.0157, Accuracy: 99.64 %\n",
            "Epoch [4], Loss: 0.0168, Accuracy: 99.62 %\n",
            "Epoch [5], Loss: 0.0224, Accuracy: 99.29 %\n",
            "Epoch [6], Loss: 0.0231, Accuracy: 99.62 %\n",
            "Epoch [7], Loss: 0.0186, Accuracy: 99.36 %\n",
            "Epoch [8], Loss: 0.0154, Accuracy: 99.69 %\n",
            "Epoch [9], Loss: 0.0208, Accuracy: 99.12 %\n",
            "Epoch [10], Loss: 0.0105, Accuracy: 99.79 %\n",
            "Epoch [1], Loss: 0.0258, Accuracy: 99.49 %\n",
            "Epoch [2], Loss: 0.0280, Accuracy: 99.25 %\n",
            "Epoch [3], Loss: 0.0162, Accuracy: 99.56 %\n",
            "Epoch [4], Loss: 0.0123, Accuracy: 99.63 %\n",
            "Epoch [5], Loss: 0.0149, Accuracy: 99.69 %\n",
            "Epoch [6], Loss: 0.0141, Accuracy: 99.41 %\n",
            "Epoch [7], Loss: 0.0277, Accuracy: 99.30 %\n",
            "Epoch [8], Loss: 0.0234, Accuracy: 99.42 %\n",
            "Epoch [9], Loss: 0.0189, Accuracy: 99.61 %\n",
            "Epoch [10], Loss: 0.0163, Accuracy: 99.73 %\n",
            "Epoch [1], Loss: 0.0158, Accuracy: 99.79 %\n",
            "Epoch [2], Loss: 0.0130, Accuracy: 99.65 %\n",
            "Epoch [3], Loss: 0.0109, Accuracy: 99.68 %\n",
            "Epoch [4], Loss: 0.0211, Accuracy: 99.19 %\n",
            "Epoch [5], Loss: 0.0213, Accuracy: 99.77 %\n",
            "Epoch [6], Loss: 0.0161, Accuracy: 99.71 %\n",
            "Epoch [7], Loss: 0.0097, Accuracy: 99.78 %\n",
            "Epoch [8], Loss: 0.0124, Accuracy: 99.81 %\n",
            "Epoch [9], Loss: 0.0200, Accuracy: 99.84 %\n",
            "Epoch [10], Loss: 0.0159, Accuracy: 99.63 %\n",
            "Epoch [1], Loss: 0.0253, Accuracy: 99.29 %\n",
            "Epoch [2], Loss: 0.0190, Accuracy: 99.63 %\n",
            "Epoch [3], Loss: 0.0177, Accuracy: 99.48 %\n",
            "Epoch [4], Loss: 0.0260, Accuracy: 99.47 %\n",
            "Epoch [5], Loss: 0.0198, Accuracy: 99.46 %\n",
            "Epoch [6], Loss: 0.0110, Accuracy: 99.80 %\n",
            "Epoch [7], Loss: 0.0139, Accuracy: 99.75 %\n",
            "Epoch [8], Loss: 0.0288, Accuracy: 99.02 %\n",
            "Epoch [9], Loss: 0.0248, Accuracy: 99.58 %\n",
            "Epoch [10], Loss: 0.0224, Accuracy: 99.64 %\n",
            "Epoch [1], Loss: 0.0220, Accuracy: 99.72 %\n",
            "Epoch [2], Loss: 0.0166, Accuracy: 99.67 %\n",
            "Epoch [3], Loss: 0.0211, Accuracy: 99.40 %\n",
            "Epoch [4], Loss: 0.0187, Accuracy: 99.64 %\n",
            "Epoch [5], Loss: 0.0193, Accuracy: 99.27 %\n",
            "Epoch [6], Loss: 0.0256, Accuracy: 99.37 %\n",
            "Epoch [7], Loss: 0.0272, Accuracy: 99.65 %\n",
            "Epoch [8], Loss: 0.0252, Accuracy: 99.32 %\n",
            "Epoch [9], Loss: 0.0191, Accuracy: 99.68 %\n",
            "Epoch [10], Loss: 0.0242, Accuracy: 99.68 %\n",
            "Accuracy: 95.822\n",
            "Epoch [1], Loss: 0.0298, Accuracy: 99.41 %\n",
            "Epoch [2], Loss: 0.0197, Accuracy: 99.47 %\n",
            "Epoch [3], Loss: 0.0322, Accuracy: 99.43 %\n",
            "Epoch [4], Loss: 0.0189, Accuracy: 99.36 %\n",
            "Epoch [5], Loss: 0.0247, Accuracy: 99.63 %\n",
            "Epoch [6], Loss: 0.0242, Accuracy: 99.65 %\n",
            "Epoch [7], Loss: 0.0265, Accuracy: 99.59 %\n",
            "Epoch [8], Loss: 0.0274, Accuracy: 99.34 %\n",
            "Epoch [9], Loss: 0.0316, Accuracy: 99.32 %\n",
            "Epoch [10], Loss: 0.0364, Accuracy: 99.66 %\n"
          ]
        }
      ],
      "source": [
        "# Perform 10-fold cross-validation\n",
        "accuracy = cross_validation(model, criterion, optimizer, trainloader, k=10)\n",
        "print('Accuracy:', accuracy)\n",
        "\n",
        "# Train the model on the entire training dataset\n",
        "train_model(trainloader, num_epochs, model, optimizer, criterion)"
      ]
    },
    {
      "cell_type": "markdown",
      "metadata": {
        "id": "BtvX46KFasvN"
      },
      "source": [
        "## Section 3: Test your model"
      ]
    },
    {
      "cell_type": "code",
      "execution_count": 30,
      "metadata": {
        "id": "xN1_iZbnasvN"
      },
      "outputs": [],
      "source": [
        "dataiter = iter(testloader)\n",
        "images, labels = next(dataiter)"
      ]
    },
    {
      "cell_type": "code",
      "execution_count": 31,
      "metadata": {
        "id": "G05d-5ZdasvO"
      },
      "outputs": [],
      "source": [
        "#Test for the entire dataset\n",
        "\n",
        "def test_model(testloader, model):\n",
        "    # Set the model to evaluation mode\n",
        "    model.eval()\n",
        "\n",
        "    # Initialize counters for correct predictions and total examples\n",
        "    correct = 0\n",
        "    total = 0\n",
        "\n",
        "    # Iterate over the dataloader\n",
        "    with torch.no_grad():\n",
        "        for data in testloader:\n",
        "            inputs, labels = data\n",
        "\n",
        "            # Move the data to the device\n",
        "            inputs = inputs.to(DEVICE)\n",
        "            labels = labels.to(DEVICE)\n",
        "\n",
        "            # Forward pass\n",
        "            outputs = model(inputs)\n",
        "            _, predicted = torch.max(outputs.data, 1)\n",
        "\n",
        "            # Update counters\n",
        "            total += labels.size(0)\n",
        "            correct += (predicted == labels).sum().item()\n",
        "\n",
        "    # Compute accuracy\n",
        "    accuracy = 100 * correct / total\n",
        "\n",
        "    #print(f'Accuracy of the network on the 10000 test images: {accuracy:.2f} %')\n",
        "    print('Accuracy of the network on the test images:  %.2f %%' % (accuracy))"
      ]
    },
    {
      "cell_type": "code",
      "source": [
        "# # Train the model on the entire training dataset\n",
        "# train_model(trainloader, num_epochs, model, optimizer, criterion)\n",
        "\n",
        "# Test the model on the entire test dataset\n",
        "test_model(testloader, model)"
      ],
      "metadata": {
        "colab": {
          "base_uri": "https://localhost:8080/"
        },
        "id": "XSwwQ1XocH-f",
        "outputId": "8d6a4924-10eb-4704-b7e3-86780ee11565"
      },
      "execution_count": 32,
      "outputs": [
        {
          "output_type": "stream",
          "name": "stdout",
          "text": [
            "Accuracy of the network on the test images:  79.13 %\n"
          ]
        }
      ]
    },
    {
      "cell_type": "code",
      "source": [],
      "metadata": {
        "id": "0tts6LJre2mn"
      },
      "execution_count": 32,
      "outputs": []
    }
  ],
  "metadata": {
    "accelerator": "GPU",
    "colab": {
      "provenance": []
    },
    "kernelspec": {
      "display_name": "Python 3 (ipykernel)",
      "language": "python",
      "name": "python3"
    },
    "language_info": {
      "codemirror_mode": {
        "name": "ipython",
        "version": 3
      },
      "file_extension": ".py",
      "mimetype": "text/x-python",
      "name": "python",
      "nbconvert_exporter": "python",
      "pygments_lexer": "ipython3",
      "version": "3.9.12"
    },
    "gpuClass": "standard"
  },
  "nbformat": 4,
  "nbformat_minor": 0
}