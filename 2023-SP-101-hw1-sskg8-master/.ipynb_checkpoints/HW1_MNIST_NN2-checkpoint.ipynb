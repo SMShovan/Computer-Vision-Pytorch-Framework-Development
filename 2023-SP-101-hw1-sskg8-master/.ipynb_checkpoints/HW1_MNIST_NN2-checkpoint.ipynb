{
 "cells": [
  {
   "cell_type": "markdown",
   "id": "2c2ef604",
   "metadata": {},
   "source": [
    "### 1. Import Libraries"
   ]
  },
  {
   "cell_type": "code",
   "execution_count": 1,
   "id": "50520dbc",
   "metadata": {},
   "outputs": [],
   "source": [
    "import os\n",
    "import sys\n",
    "import warnings\n",
    "\n",
    "import matplotlib as mpl\n",
    "import matplotlib.pyplot as plt\n",
    "import numpy as np\n",
    "import pandas as pd\n",
    "\n",
    "from sklearn.datasets import fetch_openml\n",
    "from sklearn.preprocessing import LabelEncoder\n",
    "from sklearn.model_selection import train_test_split\n",
    "\n",
    "%matplotlib inline\n",
    "mpl.rc('axes', labelsize=14)\n",
    "mpl.rc('xtick', labelsize=12)\n",
    "mpl.rc('ytick', labelsize=12)"
   ]
  },
  {
   "cell_type": "markdown",
   "id": "56983607",
   "metadata": {},
   "source": [
    "### 2. Import from mlcblab"
   ]
  },
  {
   "cell_type": "code",
   "execution_count": 2,
   "id": "26051ee7",
   "metadata": {},
   "outputs": [],
   "source": [
    "from mlcvlab.models.nn2 import NN2\n",
    "from mlcvlab.nn.losses import l2\n",
    "from mlcvlab.optim.sgd import SGD\n",
    "from mlcvlab.optim.adam import Adam"
   ]
  },
  {
   "cell_type": "markdown",
   "id": "30d59b83",
   "metadata": {},
   "source": [
    "### 3. Set Seed"
   ]
  },
  {
   "cell_type": "code",
   "execution_count": 3,
   "id": "5c69454d",
   "metadata": {},
   "outputs": [],
   "source": [
    "np.random.seed(42)"
   ]
  },
  {
   "cell_type": "markdown",
   "id": "02f3f225",
   "metadata": {},
   "source": [
    "### 4. Helper functions"
   ]
  },
  {
   "cell_type": "code",
   "execution_count": 4,
   "id": "2cf1c5ed",
   "metadata": {},
   "outputs": [],
   "source": [
    "def load_dataset():\n",
    "    x, y = fetch_openml(\"mnist_784\", version=1, return_X_y=True, as_frame=False)\n",
    "    return x, y\n",
    "\n",
    "\n",
    "def prepare_data(x, y):\n",
    "    y = y.astype(np.int)\n",
    "    y = np.where(y%2==0, 1, 0)\n",
    "    \n",
    "    #y = np.apply_along_axis(lambda num: num % 2 == 0, 0, y).astype(\"int\")\n",
    "    return x, y\n",
    "\n",
    "\n",
    "def split_train_test(x, y):\n",
    "    X_train, X_test, y_train, y_test = train_test_split(x, y, test_size=1000, random_state=42)\n",
    "    return X_train, X_test, y_train, y_test\n",
    "\n",
    "\n",
    "def initialize_model(X_train, X_test, y_train, y_test):\n",
    "    hidden_neuron_count = 200\n",
    "    t = np.sqrt(3.0 * (1/max(1., (2+2)/2.)))\n",
    "    W0 = np.random.uniform(-t, t, size= (hidden_neuron_count, 784))\n",
    "    W1 = np.random.uniform(-t, t, size= (1, hidden_neuron_count))\n",
    "    \n",
    "    \n",
    "    print(f\"Size of W0 : {W0.shape}, Size of W1 : {W1.shape}\")\n",
    "    two_layer_nn = NN2()\n",
    "    two_layer_nn.W = [W0, W1]\n",
    "    two_layer_nn.layers[0].W = W0\n",
    "    two_layer_nn.layers[1].W = W1\n",
    "\n",
    "    return two_layer_nn\n",
    "\n",
    "\n",
    "def train_model(model, X_train, y_train):\n",
    "    #final_W = Adam(model, X_train, y_train)\n",
    "    final_W = SGD(model, X_train, y_train, lr=0.1)\n",
    "    return final_W\n",
    "\n",
    "\n",
    "def test_model(model, X_test, y_test, final_W):\n",
    "    model.W = final_W\n",
    "\n",
    "    y_hat = model.nn2(X_test.T).T\n",
    "    y_test = y_test.reshape(-1, 1)\n",
    "    error = np.round_(np.abs(y_test - y_hat), 4)\n",
    "\n",
    "    indicator_fn = np.greater(error, np.zeros(error.shape)).astype('float')\n",
    "\n",
    "    accuracy = np.mean(indicator_fn) * 100\n",
    "    return accuracy"
   ]
  },
  {
   "cell_type": "markdown",
   "id": "0f4f01d2",
   "metadata": {},
   "source": [
    "### 5. Run the program"
   ]
  },
  {
   "cell_type": "code",
   "execution_count": null,
   "id": "4e9c60b8",
   "metadata": {},
   "outputs": [
    {
     "name": "stdout",
     "output_type": "stream",
     "text": [
      "Dataset import successfully\n",
      "Data preprocessing successfully\n"
     ]
    },
    {
     "name": "stderr",
     "output_type": "stream",
     "text": [
      "/var/folders/fc/0s92rq5d76q2dfccbpbrq2lh0000gn/T/ipykernel_18286/2380321754.py:7: DeprecationWarning: `np.int` is a deprecated alias for the builtin `int`. To silence this warning, use `int` by itself. Doing this will not modify any behavior and is safe. When replacing `np.int`, you may wish to use e.g. `np.int64` or `np.int32` to specify the precision. If you wish to review your current use, check the release note link for additional information.\n",
      "Deprecated in NumPy 1.20; for more details and guidance: https://numpy.org/devdocs/release/1.20.0-notes.html#deprecations\n",
      "  y = y.astype(np.int)\n"
     ]
    },
    {
     "name": "stdout",
     "output_type": "stream",
     "text": [
      "Dataset Splitted successfully\n",
      "Size of W0 : (200, 784), Size of W1 : (1, 200)\n",
      "Model initalized successfully\n"
     ]
    }
   ],
   "source": [
    "\n",
    "#load data\n",
    "x, y = load_dataset()\n",
    "print(\"Dataset import successfully\")\n",
    "\n",
    "#prepare data\n",
    "x, y = prepare_data(x,y)\n",
    "print(\"Data preprocessing successfully\")\n",
    "\n",
    "# split data set\n",
    "X_train, X_test, y_train, y_test = split_train_test(x,y)\n",
    "print(\"Dataset Splitted successfully\")\n",
    "\n",
    "#initialize model\n",
    "model = initialize_model(X_train, X_test, y_train, y_test)\n",
    "print(\"Model initalized successfully\")\n",
    "\n",
    "#training model\n",
    "final_W = train_model(model, X_train, y_train)\n",
    "print(f\"Completed training model - final W : {final_W}\")\n",
    "print(\"Model Trained successfully\")\n",
    "\n",
    "\n",
    "#testing model\n",
    "accuracy = test_model(model, X_test, y_test, final_W)\n",
    "print(f\"Completed testing model - Accuracy : {accuracy}\")"
   ]
  },
  {
   "cell_type": "code",
   "execution_count": null,
   "id": "5b8e1cdf",
   "metadata": {
    "pycharm": {
     "name": "#%%\n"
    }
   },
   "outputs": [],
   "source": []
  },
  {
   "cell_type": "code",
   "execution_count": null,
   "id": "bab6a568",
   "metadata": {},
   "outputs": [],
   "source": []
  },
  {
   "cell_type": "code",
   "execution_count": null,
   "id": "1607723a",
   "metadata": {},
   "outputs": [],
   "source": []
  }
 ],
 "metadata": {
  "kernelspec": {
   "display_name": "Python 3 (ipykernel)",
   "language": "python",
   "name": "python3"
  },
  "language_info": {
   "codemirror_mode": {
    "name": "ipython",
    "version": 3
   },
   "file_extension": ".py",
   "mimetype": "text/x-python",
   "name": "python",
   "nbconvert_exporter": "python",
   "pygments_lexer": "ipython3",
   "version": "3.9.12"
  }
 },
 "nbformat": 4,
 "nbformat_minor": 5
}
