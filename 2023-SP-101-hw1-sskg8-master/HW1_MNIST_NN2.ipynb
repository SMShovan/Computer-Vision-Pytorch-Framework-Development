{
 "cells": [
  {
   "cell_type": "markdown",
   "id": "2c2ef604",
   "metadata": {},
   "source": [
    "### 1. Import Libraries"
   ]
  },
  {
   "cell_type": "code",
   "execution_count": 1,
   "id": "50520dbc",
   "metadata": {},
   "outputs": [],
   "source": [
    "import os\n",
    "import sys\n",
    "import warnings\n",
    "\n",
    "import matplotlib as mpl\n",
    "import matplotlib.pyplot as plt\n",
    "import numpy as np\n",
    "import pandas as pd\n",
    "\n",
    "from sklearn.datasets import fetch_openml\n",
    "from sklearn.preprocessing import LabelEncoder\n",
    "from sklearn.model_selection import train_test_split\n",
    "\n",
    "%matplotlib inline\n",
    "mpl.rc('axes', labelsize=14)\n",
    "mpl.rc('xtick', labelsize=12)\n",
    "mpl.rc('ytick', labelsize=12)"
   ]
  },
  {
   "cell_type": "markdown",
   "id": "56983607",
   "metadata": {},
   "source": [
    "### 2. Import from mlcblab"
   ]
  },
  {
   "cell_type": "code",
   "execution_count": 2,
   "id": "26051ee7",
   "metadata": {},
   "outputs": [],
   "source": [
    "from mlcvlab.models.nn1 import NN1\n",
    "from mlcvlab.models.nn2 import NN2\n",
    "from mlcvlab.nn.losses import l2\n",
    "from mlcvlab.optim.sgd import SGD\n",
    "from mlcvlab.optim.adam import Adam"
   ]
  },
  {
   "cell_type": "markdown",
   "id": "30d59b83",
   "metadata": {},
   "source": [
    "### 3. Set Seed"
   ]
  },
  {
   "cell_type": "code",
   "execution_count": 3,
   "id": "5c69454d",
   "metadata": {},
   "outputs": [],
   "source": [
    "np.random.seed(42)"
   ]
  },
  {
   "cell_type": "markdown",
   "id": "02f3f225",
   "metadata": {},
   "source": [
    "### 4. Helper functions"
   ]
  },
  {
   "cell_type": "code",
   "execution_count": 4,
   "id": "2cf1c5ed",
   "metadata": {},
   "outputs": [],
   "source": [
    "def load_dataset():\n",
    "    x, y = fetch_openml(\"mnist_784\", version=1, return_X_y=True, as_frame=False)\n",
    "    return x, y\n",
    "\n",
    "\n",
    "def prepare_data(x, y):\n",
    "    y = y.astype(np.int)\n",
    "    y = np.where(y%2==0, 1, 0)\n",
    "    \n",
    "    #y = np.apply_along_axis(lambda num: num % 2 == 0, 0, y).astype(\"int\")\n",
    "    return x, y\n",
    "\n",
    "\n",
    "def split_train_test(x, y):\n",
    "    X_train, X_test, y_train, y_test = train_test_split(x, y, test_size=1000, random_state=42)\n",
    "    return X_train, X_test, y_train, y_test\n",
    "\n",
    "\n",
    "def initialize_model(X_train, X_test, y_train, y_test):\n",
    "    hidden_neuron_count = 200\n",
    "    t = np.sqrt(3.0 * (1/max(1., (2+2)/2.)))\n",
    "    W0 = np.random.uniform(-t, t, size= (hidden_neuron_count, 784))\n",
    "    W1 = np.random.uniform(-t, t, size= (1, hidden_neuron_count))\n",
    "    \n",
    "    \n",
    "    print(f\"Size of W0 : {W0.shape}, Size of W1 : {W1.shape}\")\n",
    "    two_layer_nn = NN2()\n",
    "    two_layer_nn.W = [W0, W1]\n",
    "    two_layer_nn.layers[0].W = W0\n",
    "    two_layer_nn.layers[1].W = W1\n",
    "\n",
    "    return two_layer_nn\n",
    "\n",
    "\n",
    "def train_model(model, X_train, y_train):\n",
    "    #final_W = Adam(model, X_train, y_train)\n",
    "    final_W = SGD(model, X_train, y_train, lr=0.1)\n",
    "    return final_W\n",
    "\n",
    "\n",
    "def test_model(model, X_test, y_test, final_W):\n",
    "    model.W = final_W\n",
    "\n",
    "    y_hat = model.nn2(X_test.T).T\n",
    "    y_test = y_test.reshape(-1, 1)\n",
    "    error = np.round_(np.abs(y_test - y_hat), 4)\n",
    "\n",
    "    indicator_fn = np.greater(error, np.zeros(error.shape)).astype('float')\n",
    "\n",
    "    accuracy = np.mean(indicator_fn) * 100\n",
    "    return accuracy"
   ]
  },
  {
   "cell_type": "markdown",
   "id": "0f4f01d2",
   "metadata": {},
   "source": [
    "### 5. Run the program"
   ]
  },
  {
   "cell_type": "code",
   "execution_count": 6,
   "id": "4e9c60b8",
   "metadata": {},
   "outputs": [
    {
     "name": "stdout",
     "output_type": "stream",
     "text": [
      "Dataset import successfully\n",
      "Data preprocessing successfully\n",
      "Dataset Splitted successfully\n",
      "Size of W0 : (200, 784), Size of W1 : (1, 200)\n",
      "Model initalized successfully\n",
      "Completed training model - final W : [array([[ 2.60972144e-04,  6.25573077e-04,  8.74009973e-05, ...,\n",
      "         5.98775438e-04, -1.03476161e-04,  3.49241311e-04],\n",
      "       [-1.59578868e-04,  1.04340901e-04, -1.93867376e-04, ...,\n",
      "        -6.28891953e-05,  3.02456997e-04,  7.05766959e-04],\n",
      "       [ 2.03522324e-04, -8.46911187e-05,  2.60230281e-05, ...,\n",
      "         7.41246384e-04,  1.30423048e-04,  3.79607081e-04],\n",
      "       ...,\n",
      "       [ 3.74933818e-04,  6.26763852e-04,  7.47515547e-04, ...,\n",
      "         7.95861332e-04,  1.93108581e-04,  6.67412029e-05],\n",
      "       [ 6.50188967e-04,  2.66122537e-04,  6.34171312e-04, ...,\n",
      "         2.82743770e-04,  1.74506666e-04,  6.11938280e-06],\n",
      "       [-1.11146834e-04,  5.32708134e-04,  1.81260199e-04, ...,\n",
      "         2.18847553e-04,  2.19343349e-04,  4.36314074e-04]]), array([[2.46861767e-03, 7.37042476e-03, 2.52794609e-03, 2.32563591e-03,\n",
      "        9.24947168e-03, 5.50227760e-03, 4.02286814e-03, 2.83391202e-03,\n",
      "        6.85699545e-03, 1.34758940e-04, 2.40478098e-04, 3.60688096e-03,\n",
      "        7.45439909e-03, 5.11951329e-03, 9.62172220e-03, 3.51211290e-05,\n",
      "        7.36018890e-03, 9.95474201e-04, 2.48445000e-03, 8.23549546e-03,\n",
      "        6.20023598e-03, 7.58525817e-03, 9.55941644e-03, 3.91533309e-03,\n",
      "        6.92963909e-04, 7.13792092e-04, 9.55611377e-03, 7.34582353e-03,\n",
      "        1.14699755e-04, 6.39235494e-04, 4.72268802e-03, 6.28892358e-04,\n",
      "        2.65155208e-03, 4.33691115e-03, 9.57649772e-03, 2.21529484e-03,\n",
      "        9.90101738e-03, 7.90325324e-04, 6.40355639e-03, 8.20136469e-03,\n",
      "        9.60013845e-03, 8.94546785e-03, 3.38810554e-03, 9.94130131e-03,\n",
      "        7.35762516e-03, 5.21155245e-03, 2.83243451e-03, 4.89675704e-03,\n",
      "        8.58982817e-03, 9.45194187e-03, 7.46251179e-03, 7.59710113e-03,\n",
      "        2.65430429e-03, 6.93079088e-03, 4.40004001e-03, 7.27877063e-03,\n",
      "        4.85187142e-03, 3.96204489e-03, 8.87087116e-03, 1.44323741e-04,\n",
      "        2.61616414e-03, 3.14304021e-03, 9.62548528e-03, 3.84232056e-03,\n",
      "        3.06812480e-03, 8.32619548e-03, 7.55406628e-03, 5.32630190e-03,\n",
      "        6.11055410e-03, 4.76050823e-03, 2.46679305e-03, 3.83417044e-03,\n",
      "        3.42407065e-03, 2.90496365e-03, 1.48904851e-03, 3.27716888e-03,\n",
      "        9.52807396e-03, 2.77161808e-03, 1.26065003e-03, 4.76446059e-03,\n",
      "        9.84565084e-03, 5.55481184e-03, 6.70275970e-03, 5.67552239e-03,\n",
      "        4.33571350e-03, 7.13313721e-03, 8.20220833e-03, 5.84585580e-03,\n",
      "        9.83627585e-03, 1.73407688e-03, 5.73513306e-04, 3.68224317e-03,\n",
      "        4.85279197e-04, 7.83035180e-03, 6.44476803e-04, 7.48110055e-03,\n",
      "        3.67931854e-03, 3.23409052e-03, 9.18725830e-03, 1.12051822e-03,\n",
      "        3.46716148e-04, 5.63158479e-03, 4.99223811e-03, 8.16654086e-03,\n",
      "        6.12211474e-03, 9.36792292e-03, 3.77434044e-03, 6.18423282e-03,\n",
      "        8.01254657e-05, 3.03688302e-03, 1.17862623e-03, 7.19038273e-03,\n",
      "        6.96559447e-03, 3.38980696e-03, 6.61538415e-03, 1.26936677e-03,\n",
      "        6.18156905e-03, 1.51273969e-03, 2.78906540e-03, 4.75920040e-03,\n",
      "        2.70712332e-03, 7.35572513e-03, 1.33559489e-03, 6.56496697e-03,\n",
      "        4.35612306e-03, 3.86135842e-03, 1.18900350e-03, 5.69209424e-03,\n",
      "        3.09569374e-03, 9.36819129e-03, 3.64670332e-03, 1.53215272e-03,\n",
      "        4.74274947e-03, 2.49244124e-04, 3.62144458e-03, 5.54133240e-03,\n",
      "        3.55903095e-03, 5.32057156e-03, 5.78709035e-03, 6.73841080e-03,\n",
      "        1.44600306e-04, 3.74929192e-03, 6.69397380e-03, 9.94890527e-03,\n",
      "        6.72194489e-03, 5.86850075e-03, 7.44982566e-03, 8.24486313e-03,\n",
      "        1.40943835e-03, 9.38124390e-03, 2.83733070e-04, 5.51678405e-03,\n",
      "        2.80653824e-03, 9.05596893e-03, 8.80246020e-03, 6.97713655e-03,\n",
      "        9.66834287e-03, 7.28179977e-03, 6.03770207e-04, 9.12630374e-03,\n",
      "        3.76710550e-03, 2.05906694e-03, 5.49029420e-03, 1.93930044e-03,\n",
      "        8.48571961e-03, 9.40552719e-03, 8.61282449e-03, 8.02655748e-03,\n",
      "        6.13746033e-03, 6.71004650e-03, 9.68437180e-04, 8.51770690e-03,\n",
      "        3.02305975e-03, 8.58418298e-03, 3.43447223e-03, 1.59568861e-03,\n",
      "        7.12764674e-03, 8.85563902e-03, 2.20477187e-03, 3.39427218e-05,\n",
      "        5.18136519e-03, 3.54855342e-03, 6.26257948e-03, 2.95534303e-03,\n",
      "        7.51230700e-03, 2.57549074e-03, 7.96067711e-03, 2.89352988e-03,\n",
      "        4.68779668e-03, 2.09092008e-03, 9.41616975e-04, 1.36909831e-03,\n",
      "        1.25937459e-03, 7.44261608e-03, 1.58532655e-03, 5.57416927e-03,\n",
      "        1.79596333e-03, 7.70126752e-03, 4.35639025e-03, 1.33145220e-03]])]\n",
      "Model Trained successfully\n",
      "Completed testing model - Accuracy : 85.07000000000001\n"
     ]
    }
   ],
   "source": [
    "\n",
    "#load data\n",
    "x, y = load_dataset()\n",
    "print(\"Dataset import successfully\")\n",
    "\n",
    "#prepare data\n",
    "x, y = prepare_data(x,y)\n",
    "print(\"Data preprocessing successfully\")\n",
    "\n",
    "# split data set\n",
    "X_train, X_test, y_train, y_test = split_train_test(x,y)\n",
    "print(\"Dataset Splitted successfully\")\n",
    "\n",
    "#initialize model\n",
    "model = initialize_model(X_train, X_test, y_train, y_test)\n",
    "print(\"Model initalized successfully\")\n",
    "\n",
    "#training model\n",
    "final_W = train_model(model, X_train, y_train)\n",
    "print(f\"Completed training model - final W : {final_W}\")\n",
    "print(\"Model Trained successfully\")\n",
    "\n",
    "\n",
    "#testing model\n",
    "accuracy = test_model(model, X_test, y_test, final_W)\n",
    "print(f\"Completed testing model - Accuracy : {accuracy}\")"
   ]
  },
  {
   "cell_type": "code",
   "execution_count": null,
   "id": "5b8e1cdf",
   "metadata": {
    "pycharm": {
     "name": "#%%\n"
    }
   },
   "outputs": [],
   "source": []
  }
 ],
 "metadata": {
  "kernelspec": {
   "display_name": "Python 3",
   "language": "python",
   "name": "python3"
  },
  "language_info": {
   "codemirror_mode": {
    "name": "ipython",
    "version": 3
   },
   "file_extension": ".py",
   "mimetype": "text/x-python",
   "name": "python",
   "nbconvert_exporter": "python",
   "pygments_lexer": "ipython3",
   "version": "3.11.2"
  },
  "vscode": {
   "interpreter": {
    "hash": "5c7b89af1651d0b8571dde13640ecdccf7d5a6204171d6ab33e7c296e100e08a"
   }
  }
 },
 "nbformat": 4,
 "nbformat_minor": 5
}
